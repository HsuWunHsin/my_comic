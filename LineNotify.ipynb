{
 "cells": [
  {
   "cell_type": "code",
   "execution_count": null,
   "metadata": {},
   "outputs": [],
   "source": [
    "## 取得隱碼 Code"
   ]
  },
  {
   "cell_type": "code",
   "execution_count": 1,
   "metadata": {},
   "outputs": [
    {
     "name": "stdout",
     "output_type": "stream",
     "text": [
      "https://notify-bot.line.me/oauth/authorize?response_type=code&client_id=0yQlmWzMWi0jDWYbES7ciE&redirect_uri=http://127.0.0.1:5000/callback&scope=notify&state=NO_STATE\n"
     ]
    }
   ],
   "source": [
    "client_id = '0yQlmWzMWi0jDWYbES7ciE'\n",
    "callback_url = 'http://127.0.0.1:5000/callback'\n",
    "URL = f'https://notify-bot.line.me/oauth/authorize?response_type=code&client_id={client_id}&redirect_uri={callback_url}&scope=notify&state=NO_STATE'\n",
    "print(URL)"
   ]
  },
  {
   "cell_type": "code",
   "execution_count": null,
   "metadata": {},
   "outputs": [],
   "source": [
    "## 取得授權 Token"
   ]
  },
  {
   "cell_type": "code",
   "execution_count": 2,
   "metadata": {},
   "outputs": [],
   "source": [
    "import requests\n",
    "\n",
    "code = 'wt0cf149gG5XP6VvsRf7MB'\n",
    "client_secret = 'AURnRi1pRkCc1yb5xDix6wxl8w5u0C6UW8qDVLZtgYi'\n",
    "headers = {\n",
    "    'Content-type': 'application/x-www-form-urlencoded'\n",
    "}\n",
    "\n",
    "payload = {\n",
    " 'code':code,\n",
    " 'client_id': client_id, \n",
    " 'client_secret': client_secret,\n",
    " 'redirect_uri': callback_url,\n",
    " 'grant_type' : 'authorization_code'   \n",
    "}\n",
    "\n",
    "res = requests.post('https://notify-bot.line.me/oauth/token', data = payload, headers = headers)"
   ]
  },
  {
   "cell_type": "code",
   "execution_count": 3,
   "metadata": {},
   "outputs": [
    {
     "data": {
      "text/plain": [
       "'{\"status\":200,\"message\":\"access_token is issued\",\"access_token\":\"Kaw95ahN7yuosyWEKE1Y30xy8JHIo0xrhneunauj4vB\"}'"
      ]
     },
     "execution_count": 3,
     "metadata": {},
     "output_type": "execute_result"
    }
   ],
   "source": [
    "res.text"
   ]
  },
  {
   "cell_type": "code",
   "execution_count": null,
   "metadata": {},
   "outputs": [],
   "source": [
    "## 自動發訊息"
   ]
  },
  {
   "cell_type": "code",
   "execution_count": 4,
   "metadata": {},
   "outputs": [],
   "source": [
    "\n",
    "token = 'Kaw95ahN7yuosyWEKE1Y30xy8JHIo0xrhneunauj4vB'\n",
    "headers = {\n",
    "    'Content-type': 'application/x-www-form-urlencoded',\n",
    "    'Authorization': f'Bearer {token}'\n",
    "}\n",
    "\n",
    "payload = {\n",
    " 'message':'Hello World', \n",
    "}\n",
    "\n",
    "res = requests.post('https://notify-api.line.me/api/notify', data = payload, headers = headers)"
   ]
  },
  {
   "cell_type": "code",
   "execution_count": 1,
   "metadata": {},
   "outputs": [],
   "source": [
    "## Flask API"
   ]
  },
  {
   "cell_type": "code",
   "execution_count": 7,
   "metadata": {},
   "outputs": [
    {
     "name": "stdout",
     "output_type": "stream",
     "text": [
      " * Serving Flask app \"__main__\" (lazy loading)\n",
      " * Environment: production\n",
      "   WARNING: This is a development server. Do not use it in a production deployment.\n",
      "   Use a production WSGI server instead.\n",
      " * Debug mode: off\n"
     ]
    },
    {
     "name": "stderr",
     "output_type": "stream",
     "text": [
      " * Running on http://127.0.0.1:5000/ (Press CTRL+C to quit)\n",
      "127.0.0.1 - - [07/Mar/2020 17:29:39] \"\u001b[37mGET /callback?code=lJPLhOBhs3vQMNUNYr7Mug&state=NO_STATE HTTP/1.1\u001b[0m\" 200 -\n",
      "127.0.0.1 - - [07/Mar/2020 17:29:39] \"\u001b[33mGET /favicon.ico HTTP/1.1\u001b[0m\" 404 -\n"
     ]
    }
   ],
   "source": [
    "from flask import Flask, jsonify, request\n",
    "app=Flask(__name__)\n",
    "\n",
    "@app.route(\"/callback\")\n",
    "def callback():\n",
    "    return jsonify({'data' : request.url})\n",
    "\n",
    "if __name__==\"__main__\":\n",
    "    app.run()"
   ]
  }
 ],
 "metadata": {
  "kernelspec": {
   "display_name": "Python 3",
   "language": "python",
   "name": "python3"
  },
  "language_info": {
   "codemirror_mode": {
    "name": "ipython",
    "version": 3
   },
   "file_extension": ".py",
   "mimetype": "text/x-python",
   "name": "python",
   "nbconvert_exporter": "python",
   "pygments_lexer": "ipython3",
   "version": "3.7.0"
  }
 },
 "nbformat": 4,
 "nbformat_minor": 2
}
